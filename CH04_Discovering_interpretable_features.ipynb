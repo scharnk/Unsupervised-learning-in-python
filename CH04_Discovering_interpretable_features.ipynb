{
  "nbformat": 4,
  "nbformat_minor": 0,
  "metadata": {
    "colab": {
      "name": "CH04_Discovering_interpretable_features.ipynb",
      "version": "0.3.2",
      "provenance": [],
      "include_colab_link": true
    },
    "kernelspec": {
      "name": "python3",
      "display_name": "Python 3"
    }
  },
  "cells": [
    {
      "cell_type": "markdown",
      "metadata": {
        "id": "view-in-github",
        "colab_type": "text"
      },
      "source": [
        "<a href=\"https://colab.research.google.com/github/scharnk/Unsupervised-learning-in-python/blob/master/CH04_Discovering_interpretable_features.ipynb\" target=\"_parent\"><img src=\"https://colab.research.google.com/assets/colab-badge.svg\" alt=\"Open In Colab\"/></a>"
      ]
    },
    {
      "cell_type": "markdown",
      "metadata": {
        "id": "MpcWb1fw9l80",
        "colab_type": "text"
      },
      "source": [
        "#Non-negative matrix factorization (NMF)\n",
        "\n",
        "* dimension reduction technique\n",
        "* NMF models = interpretable (easy to explain)\n",
        "* PCA models = not interpretable\n",
        "* **all sample features must >= 0**\n",
        "\n",
        "* from sklearn\n",
        "* works with fit() / transform()\n",
        "* must specify NMF(n_components=2)\n",
        "* works with NumPy arrays and csr_matrix\n",
        "\n",
        "#tf-idf\n",
        "\n",
        "* tf = freq of a word in a doc\n",
        "* idf = reduces common connective words freq (like 'the')\n",
        "\n",
        "#More on NMF\n",
        "\n",
        "NMF model components = dimension of samples\n",
        "\n",
        "* features of NMF can reconstruct OG dataset\n",
        "* reconstruction = product of matrices\n",
        ">* sum of components x feature-values\n",
        "* this is MATRIX FACTORIZATION (the MF of NMF)"
      ]
    },
    {
      "cell_type": "code",
      "metadata": {
        "id": "U-5vwEYdLJ2V",
        "colab_type": "code",
        "colab": {}
      },
      "source": [
        "# Import NMF\n",
        "from sklearn.decomposition import NMF\n",
        "\n",
        "# Create an NMF instance: model\n",
        "model = NMF(n_components=6)\n",
        "\n",
        "# Fit the model to articles\n",
        "model.fit(articles)\n",
        "\n",
        "# Transform the articles: nmf_features\n",
        "nmf_features = model.transform(articles)\n",
        "\n",
        "# Print the NMF features\n",
        "print(nmf_features)\n"
      ],
      "execution_count": 0,
      "outputs": []
    },
    {
      "cell_type": "code",
      "metadata": {
        "id": "8mKXP7dnLJmS",
        "colab_type": "code",
        "colab": {}
      },
      "source": [
        "# Import pandas\n",
        "import pandas as pd\n",
        "\n",
        "# Create a pandas DataFrame: df\n",
        "df = pd.DataFrame(nmf_features, index=titles)\n",
        "\n",
        "# Print the row for 'Anne Hathaway'\n",
        "print(df.loc['Anne Hathaway'])\n",
        "\n",
        "# Print the row for 'Denzel Washington'\n",
        "print(df.loc['Denzel Washington'])\n"
      ],
      "execution_count": 0,
      "outputs": []
    },
    {
      "cell_type": "markdown",
      "metadata": {
        "id": "JOlEMGsiNlBm",
        "colab_type": "text"
      },
      "source": [
        "# NMF Components\n",
        "\n",
        "* docs: NMF components represent topics \n",
        "* or reverse: NMF components combine into docs\n",
        "* images: NMF components are parts of the image\n",
        "* grayscale images: 0 to 1 -- black, to white"
      ]
    },
    {
      "cell_type": "code",
      "metadata": {
        "id": "6k7OYM_rLJGb",
        "colab_type": "code",
        "colab": {}
      },
      "source": [
        "# Import pandas\n",
        "import pandas as pd\n",
        "\n",
        "# Create a DataFrame: components_df\n",
        "components_df = pd.DataFrame(model.components_, columns=words)\n",
        "\n",
        "# Print the shape of the DataFrame\n",
        "print(components_df.shape)\n",
        "\n",
        "# Select row 3: component\n",
        "component = components_df.iloc[3]\n",
        "\n",
        "# Print result of nlargest\n",
        "print(component.nlargest())\n"
      ],
      "execution_count": 0,
      "outputs": []
    },
    {
      "cell_type": "code",
      "metadata": {
        "id": "8hoalXFa9jvE",
        "colab_type": "code",
        "colab": {}
      },
      "source": [
        "# Import pyplot\n",
        "from matplotlib import pyplot as plt\n",
        "\n",
        "# Select the 0th row: digit\n",
        "digit = samples[0,:]\n",
        "\n",
        "# Print digit\n",
        "print(digit)\n",
        "\n",
        "# Reshape digit to a 13x8 array: bitmap\n",
        "bitmap = digit.reshape(13,8)\n",
        "\n",
        "# Print bitmap\n",
        "print(bitmap)\n",
        "\n",
        "# Use plt.imshow to display bitmap\n",
        "plt.imshow(bitmap, cmap='gray', interpolation='nearest')\n",
        "plt.colorbar()\n",
        "plt.show()\n"
      ],
      "execution_count": 0,
      "outputs": []
    },
    {
      "cell_type": "code",
      "metadata": {
        "id": "sHX_AEt1VPnl",
        "colab_type": "code",
        "colab": {}
      },
      "source": [
        "# Import NMF\n",
        "from sklearn.decomposition import NMF\n",
        "\n",
        "# Create an NMF model: model\n",
        "model = NMF(n_components=7)\n",
        "\n",
        "# Apply fit_transform to samples: features\n",
        "features = model.fit_transform(samples)\n",
        "\n",
        "# Call show_as_image on each component\n",
        "for component in model.components_:\n",
        "    show_as_image(component)\n",
        "\n",
        "# Assign the 0th row of features: digit_features\n",
        "digit_features = features[0,:]\n",
        "\n",
        "# Print digit_features\n",
        "print(digit_features)"
      ],
      "execution_count": 0,
      "outputs": []
    },
    {
      "cell_type": "code",
      "metadata": {
        "id": "8OdTmOaDVPey",
        "colab_type": "code",
        "colab": {}
      },
      "source": [
        "# Import PCA\n",
        "from sklearn.decomposition import PCA\n",
        "\n",
        "# Create a PCA instance: model\n",
        "model = PCA(n_components=7)\n",
        "\n",
        "# Apply fit_transform to samples: features\n",
        "features = model.fit_transform(samples)\n",
        "\n",
        "# Call show_as_image on each component\n",
        "for component in model.components_:\n",
        "    show_as_image(component)\n",
        "    "
      ],
      "execution_count": 0,
      "outputs": []
    },
    {
      "cell_type": "markdown",
      "metadata": {
        "id": "-W2mIqLjW2y2",
        "colab_type": "text"
      },
      "source": [
        "#Cosine Similarity\n",
        "\n",
        "* uses angle between the lines\n",
        "* higher values = more similar\n",
        "* max value = 1 -- when angle = 0"
      ]
    },
    {
      "cell_type": "code",
      "metadata": {
        "id": "Y1b7POl7VPII",
        "colab_type": "code",
        "colab": {}
      },
      "source": [
        "# Perform the necessary imports\n",
        "import pandas as pd\n",
        "from sklearn.preprocessing import normalize\n",
        "\n",
        "# Normalize the NMF features: norm_features\n",
        "norm_features = normalize(nmf_features)\n",
        "\n",
        "# Create a DataFrame: df\n",
        "df = pd.DataFrame(norm_features, index=titles)\n",
        "\n",
        "# Select the row corresponding to 'Cristiano Ronaldo': article\n",
        "article = df.loc['Cristiano Ronaldo']\n",
        "\n",
        "# Compute the dot products: similarities\n",
        "similarities = df.dot(article)\n",
        "\n",
        "# Display those with the largest cosine similarity\n",
        "print(similarities.nlargest())"
      ],
      "execution_count": 0,
      "outputs": []
    },
    {
      "cell_type": "code",
      "metadata": {
        "id": "DrV3wiWtVO4r",
        "colab_type": "code",
        "colab": {}
      },
      "source": [
        "# Perform the necessary imports\n",
        "from sklearn.decomposition import NMF\n",
        "from sklearn.preprocessing import Normalizer, MaxAbsScaler\n",
        "from sklearn.pipeline import make_pipeline\n",
        "\n",
        "# Create a MaxAbsScaler: scaler\n",
        "scaler = MaxAbsScaler()\n",
        "\n",
        "# Create an NMF model: nmf\n",
        "nmf = NMF(n_components=20)\n",
        "\n",
        "# Create a Normalizer: normalizer\n",
        "normalizer = Normalizer()\n",
        "\n",
        "# Create a pipeline: pipeline\n",
        "pipeline = make_pipeline(scaler, nmf, normalizer)\n",
        "\n",
        "# Apply fit_transform to artists: norm_features\n",
        "norm_features = pipeline.fit_transform(artists)\n"
      ],
      "execution_count": 0,
      "outputs": []
    },
    {
      "cell_type": "code",
      "metadata": {
        "id": "cS5Fa7RSwuAn",
        "colab_type": "code",
        "colab": {}
      },
      "source": [
        "# Import pandas\n",
        "import pandas as pd\n",
        "\n",
        "# Create a DataFrame: df\n",
        "df = pd.DataFrame(norm_features, index=artist_names)\n",
        "\n",
        "# Select row of 'Bruce Springsteen': artist\n",
        "artist = df.loc['Bruce Springsteen']\n",
        "\n",
        "# Compute cosine similarities: similarities\n",
        "similarities = df.dot(artist)\n",
        "\n",
        "# Display those with highest cosine similarity\n",
        "print(similarities.nlargest())\n"
      ],
      "execution_count": 0,
      "outputs": []
    },
    {
      "cell_type": "markdown",
      "metadata": {
        "id": "FlnRmJv3x1Dh",
        "colab_type": "text"
      },
      "source": [
        "#SUMMARY\n",
        "\n",
        "* learned how to use sklearn & scipy for unsupervised learning problems\n",
        "* used clustering and dimension reduction techniques with real world datasets\n",
        "* including: \n",
        ">* clustering wikipedia by the words they contain\n",
        ">* recommending musical artists to consumers\n",
        ">* \n"
      ]
    }
  ]
}