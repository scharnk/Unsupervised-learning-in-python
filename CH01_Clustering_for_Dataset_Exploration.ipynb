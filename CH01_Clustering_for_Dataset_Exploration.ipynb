{
  "nbformat": 4,
  "nbformat_minor": 0,
  "metadata": {
    "colab": {
      "name": "CH01_Clustering_for_Dataset_Exploration.ipynb",
      "version": "0.3.2",
      "provenance": [],
      "include_colab_link": true
    },
    "kernelspec": {
      "name": "python3",
      "display_name": "Python 3"
    }
  },
  "cells": [
    {
      "cell_type": "markdown",
      "metadata": {
        "id": "view-in-github",
        "colab_type": "text"
      },
      "source": [
        "<a href=\"https://colab.research.google.com/github/scharnk/Unsupervised-learning-in-python/blob/master/CH01_Clustering_for_Dataset_Exploration.ipynb\" target=\"_parent\"><img src=\"https://colab.research.google.com/assets/colab-badge.svg\" alt=\"Open In Colab\"/></a>"
      ]
    },
    {
      "cell_type": "markdown",
      "metadata": {
        "id": "Yl6NiUm7_zI_",
        "colab_type": "text"
      },
      "source": [
        "#Unsupervised Learning\n",
        "\n",
        "* finds patterns in data \n",
        ">* **clustering** - customers by purchases\n",
        ">* **dimension reduction** - using purchase patterns\n",
        "\n",
        "\n",
        "\n",
        "---\n",
        "\n",
        "#Supervised vs Unsupervised Learning\n",
        "\n",
        "* SUPERVISED - finds patterns for a prediction task\n",
        ">* e.g.. classifying tumors as benign, or cacerous \n",
        "* UNSUPERVISED - finds patterns in data without a specific task in mind\n",
        "\n",
        "#k-means clustering\n",
        "\n",
        "* finds clusters\n",
        "* number of clusters must be specified\n",
        "* from sklearn\n",
        "\n",
        "\n",
        "\n",
        "* new samples can be assigned later\n",
        "* k-means remembers the centroids(mean) of each cluster\n",
        "* finds nearest centroid to new samples"
      ]
    },
    {
      "cell_type": "code",
      "metadata": {
        "id": "zEwbOZJg_gGJ",
        "colab_type": "code",
        "colab": {}
      },
      "source": [
        "# Import KMeans\n",
        "from sklearn.cluster import KMeans\n",
        "\n",
        "# Create a KMeans instance with 3 clusters: model\n",
        "model = KMeans(n_clusters=3)\n",
        "\n",
        "# Fit model to points\n",
        "model.fit(points)\n",
        "\n",
        "# Determine the cluster labels of new_points: labels\n",
        "labels = model.predict(new_points)\n",
        "\n",
        "# Print cluster labels of new_points\n",
        "print(labels)\n"
      ],
      "execution_count": 0,
      "outputs": []
    },
    {
      "cell_type": "code",
      "metadata": {
        "id": "hqcgw-NUKtCm",
        "colab_type": "code",
        "colab": {}
      },
      "source": [
        "# Import pyplot\n",
        "import matplotlib.pyplot as plt\n",
        "\n",
        "# Assign the columns of new_points: xs and ys\n",
        "xs = new_points[:,0]\n",
        "ys = new_points[:,1]\n",
        "\n",
        "# Make a scatter plot of xs and ys, using labels to define the colors\n",
        "plt.scatter(xs, ys, c=labels, alpha=0.5)\n",
        "\n",
        "# Assign the cluster centers: centroids\n",
        "centroids = model.cluster_centers_\n",
        "\n",
        "# Assign the columns of centroids: centroids_x, centroids_y\n",
        "centroids_x = centroids[:,0]\n",
        "centroids_y = centroids[:,1]\n",
        "\n",
        "# Make a scatter plot of centroids_x and centroids_y\n",
        "plt.scatter(centroids_x, centroids_y, marker='D', s=50)\n",
        "plt.show()\n"
      ],
      "execution_count": 0,
      "outputs": []
    },
    {
      "cell_type": "markdown",
      "metadata": {
        "id": "64RfILfIP2wA",
        "colab_type": "text"
      },
      "source": [
        "#Cross-tablulation with Pandas\n",
        "\n",
        "* validate species correctly identified with clustering\n",
        "* cluster vs species = cross-tabluation\n",
        "\n",
        "#Inertia measures clustering quality\n",
        "\n",
        "* inertia measures how spread out centroids are\n",
        ">*  LOWER = BETTER\n",
        "* also measures distance of each point from centroid\n",
        "* after calling .fit() can call .inertia_\n",
        "* k-means tried to minimize intertia when clustering\n",
        "\n",
        "#Number of Clusters\n",
        "\n",
        "* more clusters means lower inertia\n",
        "* trade off for efficiency\n",
        "* choose numbers from \"elbow\" in inertia plot"
      ]
    },
    {
      "cell_type": "code",
      "metadata": {
        "id": "FE4lhxZ4Ks5A",
        "colab_type": "code",
        "colab": {}
      },
      "source": [
        "ks = range(1, 6)\n",
        "inertias = []\n",
        "\n",
        "for k in ks:\n",
        "    # Create a KMeans instance with k clusters: model\n",
        "    model = KMeans(n_clusters=k)\n",
        "    \n",
        "    # Fit model to samples\n",
        "    model.fit(samples)\n",
        "    \n",
        "    # Append the inertia to the list of inertias\n",
        "    inertias.append(model.inertia_)\n",
        "    \n",
        "# Plot ks vs inertias\n",
        "plt.plot(ks, inertias, '-o')\n",
        "plt.xlabel('number of clusters, k')\n",
        "plt.ylabel('inertia')\n",
        "plt.xticks(ks)\n",
        "plt.show()\n"
      ],
      "execution_count": 0,
      "outputs": []
    },
    {
      "cell_type": "markdown",
      "metadata": {
        "id": "0nIsYb0dqPcA",
        "colab_type": "text"
      },
      "source": [
        "Use the .fit_predict() method of model to fit it to samples and derive the cluster labels. Using .fit_predict() is the same as using .fit() followed by .predict()"
      ]
    },
    {
      "cell_type": "code",
      "metadata": {
        "id": "YvUmL8mFKsb_",
        "colab_type": "code",
        "colab": {}
      },
      "source": [
        "# Create a KMeans model with 3 clusters: model\n",
        "model = KMeans(n_clusters=3)\n",
        "\n",
        "# Use fit_predict to fit model and obtain cluster labels: labels\n",
        "labels = model.fit_predict(samples)\n",
        "\n",
        "# Create a DataFrame with labels and varieties as columns: df\n",
        "df = pd.DataFrame({'labels': labels, 'varieties': varieties})\n",
        "\n",
        "# Create crosstab: ct\n",
        "ct = pd.crosstab(df['labels'], df['varieties'])\n",
        "\n",
        "# Display ct\n",
        "print(ct)\n"
      ],
      "execution_count": 0,
      "outputs": []
    },
    {
      "cell_type": "markdown",
      "metadata": {
        "id": "qx6RW1E-vjtF",
        "colab_type": "text"
      },
      "source": [
        "#Standard Scaler\n",
        "\n",
        "* In kmeans: feature variance = feature influence\n",
        "* Standard scaler --> transforms features to have mean=0 and variance=1\n",
        "\n",
        "#sklearn preprocessing steps\n",
        "\n",
        "* Standard Scaler\n",
        "* MaxAbsScaler\n",
        "* Normalizer"
      ]
    },
    {
      "cell_type": "code",
      "metadata": {
        "id": "8wyNZOgiw7-H",
        "colab_type": "code",
        "colab": {}
      },
      "source": [
        "# Perform the necessary imports\n",
        "from sklearn.pipeline import make_pipeline\n",
        "from sklearn.preprocessing import StandardScaler\n",
        "from sklearn.cluster import KMeans\n",
        "\n",
        "# Create scaler: scaler\n",
        "scaler = StandardScaler()\n",
        "\n",
        "# Create KMeans instance: kmeans\n",
        "kmeans = KMeans(n_clusters=4)\n",
        "\n",
        "# Create pipeline: pipeline\n",
        "pipeline = make_pipeline(scaler, kmeans)\n"
      ],
      "execution_count": 0,
      "outputs": []
    },
    {
      "cell_type": "code",
      "metadata": {
        "id": "2ysT8WYIxB5I",
        "colab_type": "code",
        "colab": {}
      },
      "source": [
        "# Import pandas\n",
        "import pandas as pd\n",
        "\n",
        "# Fit the pipeline to samples\n",
        "pipeline.fit(samples)\n",
        "\n",
        "# Calculate the cluster labels: labels\n",
        "labels = pipeline.predict(samples)\n",
        "\n",
        "# Create a DataFrame with labels and species as columns: df\n",
        "df = pd.DataFrame({'labels': labels, 'species': species})\n",
        "#df = pd.DataFrame(labels, species, columns=['labels','species'])\n",
        "\n",
        "# Create crosstab: ct\n",
        "ct = pd.crosstab(df['labels'], df['species'])\n",
        "\n",
        "# Display ct\n",
        "print(ct)\n"
      ],
      "execution_count": 0,
      "outputs": []
    },
    {
      "cell_type": "code",
      "metadata": {
        "id": "fdQ5NyrRxBvY",
        "colab_type": "code",
        "colab": {}
      },
      "source": [
        "# Import Normalizer\n",
        "from sklearn.preprocessing import Normalizer\n",
        "\n",
        "# Create a normalizer: normalizer\n",
        "normalizer = Normalizer()\n",
        "\n",
        "# Create a KMeans model with 10 clusters: kmeans\n",
        "kmeans = KMeans(n_clusters=10)\n",
        "\n",
        "# Make a pipeline chaining normalizer and kmeans: pipeline\n",
        "pipeline = make_pipeline(normalizer, kmeans)\n",
        "\n",
        "# Fit pipeline to the daily price movements\n",
        "pipeline.fit(movements)\n"
      ],
      "execution_count": 0,
      "outputs": []
    },
    {
      "cell_type": "code",
      "metadata": {
        "id": "qFgpTXtyxBO_",
        "colab_type": "code",
        "colab": {}
      },
      "source": [
        "# Import pandas\n",
        "import pandas as pd\n",
        "\n",
        "# Predict the cluster labels: labels\n",
        "labels = pipeline.predict(movements)\n",
        "\n",
        "# Create a DataFrame aligning labels and companies: df\n",
        "df = pd.DataFrame({'labels': labels, 'companies': companies})\n",
        "\n",
        "# Display df sorted by cluster label\n",
        "print(df.sort_values('labels'))\n"
      ],
      "execution_count": 0,
      "outputs": []
    }
  ]
}