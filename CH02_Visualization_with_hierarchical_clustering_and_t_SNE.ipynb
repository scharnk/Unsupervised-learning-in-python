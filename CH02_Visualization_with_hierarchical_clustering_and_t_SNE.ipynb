{
  "nbformat": 4,
  "nbformat_minor": 0,
  "metadata": {
    "colab": {
      "name": "CH02_Visualization_with_hierarchical_clustering_and_t-SNE.ipynb",
      "version": "0.3.2",
      "provenance": [],
      "include_colab_link": true
    },
    "kernelspec": {
      "name": "python3",
      "display_name": "Python 3"
    }
  },
  "cells": [
    {
      "cell_type": "markdown",
      "metadata": {
        "id": "view-in-github",
        "colab_type": "text"
      },
      "source": [
        "<a href=\"https://colab.research.google.com/github/scharnk/Unsupervised-learning-in-python/blob/master/CH02_Visualization_with_hierarchical_clustering_and_t_SNE.ipynb\" target=\"_parent\"><img src=\"https://colab.research.google.com/assets/colab-badge.svg\" alt=\"Open In Colab\"/></a>"
      ]
    },
    {
      "cell_type": "markdown",
      "metadata": {
        "id": "PyP6a6Vg4t9N",
        "colab_type": "text"
      },
      "source": [
        "#visualizations\n",
        "\n",
        "* t-SNE -- 2-D map of dataset\n",
        "* Hierarchical clustering\n",
        "> * clusters are vertical lines\n",
        "> * joining of vertical lines means a merging of clustering"
      ]
    },
    {
      "cell_type": "code",
      "metadata": {
        "id": "Kp-zpToz689Q",
        "colab_type": "code",
        "colab": {}
      },
      "source": [
        "# Perform the necessary imports\n",
        "from scipy.cluster.hierarchy import linkage, dendrogram\n",
        "import matplotlib.pyplot as plt\n",
        "\n",
        "# Calculate the linkage: mergings\n",
        "mergings = linkage(samples, method='complete')\n",
        "\n",
        "# Plot the dendrogram, using varieties as labels\n",
        "dendrogram(mergings,\n",
        "           labels=varieties,\n",
        "           leaf_rotation=90,\n",
        "           leaf_font_size=6,\n",
        ")\n",
        "plt.show()\n"
      ],
      "execution_count": 0,
      "outputs": []
    },
    {
      "cell_type": "code",
      "metadata": {
        "id": "8YX9WH-E694m",
        "colab_type": "code",
        "colab": {}
      },
      "source": [
        "# Import normalize\n",
        "from sklearn.preprocessing import normalize\n",
        "\n",
        "# Normalize the movements: normalized_movements\n",
        "normalized_movements = normalize(movements)\n",
        "\n",
        "# Calculate the linkage: mergings\n",
        "mergings = linkage(normalized_movements, method='complete')\n",
        "\n",
        "# Plot the dendrogram\n",
        "dendrogram(mergings, labels=companies, leaf_rotation=90, leaf_font_size=6)\n",
        "plt.show()\n"
      ],
      "execution_count": 0,
      "outputs": []
    },
    {
      "cell_type": "markdown",
      "metadata": {
        "id": "b9FJJYf99So6",
        "colab_type": "text"
      },
      "source": [
        "* cluster labels can be used for cross-tabulations\n",
        "\n",
        "#Distance in Hierarchal Dendrograms\n",
        "\n",
        "* height on dendrogram specifies max distance between merging clusters\n",
        "* Distance between clusters is determined by linkage method used\n",
        "* 'complete' linkage: means distance between clusters is max distance between samples\n",
        "* In single linkage, the distance between clusters is the distance between the closest points of the clusters\n",
        "\n",
        "#SciPy clustering labels start at 1\n",
        "#sklearn clustering labels are 0 indexed"
      ]
    },
    {
      "cell_type": "code",
      "metadata": {
        "id": "MLXlW0NU69iH",
        "colab_type": "code",
        "colab": {}
      },
      "source": [
        "# Perform the necessary imports\n",
        "import matplotlib.pyplot as plt\n",
        "from scipy.cluster.hierarchy import linkage, dendrogram\n",
        "\n",
        "# Calculate the linkage: mergings\n",
        "mergings = linkage(samples, method='single')\n",
        "\n",
        "# Plot the dendrogram\n",
        "dendrogram(mergings, labels=country_names, leaf_rotation=90, leaf_font_size=6)\n",
        "plt.show()\n"
      ],
      "execution_count": 0,
      "outputs": []
    },
    {
      "cell_type": "code",
      "metadata": {
        "id": "lJR8q_ZuAExb",
        "colab_type": "code",
        "colab": {}
      },
      "source": [
        "# Perform the necessary imports\n",
        "import pandas as pd\n",
        "from scipy.cluster.hierarchy import fcluster\n",
        "\n",
        "# Use fcluster to extract labels: labels\n",
        "labels = fcluster(mergings, 6, criterion='distance')\n",
        "\n",
        "# Create a DataFrame with labels and varieties as columns: df\n",
        "df = pd.DataFrame({'labels': labels, 'varieties': varieties})\n",
        "\n",
        "# Create crosstab: ct\n",
        "ct = pd.crosstab(df['labels'], df['varieties'])\n",
        "\n",
        "# Display ct\n",
        "print(ct)\n"
      ],
      "execution_count": 0,
      "outputs": []
    },
    {
      "cell_type": "markdown",
      "metadata": {
        "id": "1STKfQ4ODgxy",
        "colab_type": "text"
      },
      "source": [
        "#t-SNE (t-distributed stochastic neighbor embedding)\n",
        "\n",
        "* maps samples from higher dimensional space into 2D or 3D \n",
        "* preserves nearned of samples\n",
        "* great to inspect datasets\n",
        "\n",
        "\n",
        "#t-SNE only has fit_transform() method\n",
        "\n",
        "* so simultaneously fits & transforms data\n",
        "* cannot run fit or transform separately\n",
        "* can't extend map to include new data samples\n",
        "* meaning you have to start over each time\n",
        "\n",
        "#t-SNE learning rate\n",
        "\n",
        "* if wrong choice, then all points will bunch together\n",
        "* typically = 50 to 200\n",
        "\n",
        "#t-SNE features will be different each time\n",
        "\n",
        "* but every cluster will appear wrt the others the same way"
      ]
    },
    {
      "cell_type": "code",
      "metadata": {
        "id": "1fnUhNnPAEkd",
        "colab_type": "code",
        "colab": {}
      },
      "source": [
        "# Import TSNE\n",
        "from sklearn.manifold import TSNE\n",
        "\n",
        "# Create a TSNE instance: model\n",
        "model = TSNE(learning_rate=200)\n",
        "\n",
        "# Apply fit_transform to samples: tsne_features\n",
        "tsne_features = model.fit_transform(samples)\n",
        "\n",
        "# Select the 0th feature: xs\n",
        "xs = tsne_features[:,0]\n",
        "\n",
        "# Select the 1st feature: ys\n",
        "ys = tsne_features[:,1]\n",
        "\n",
        "# Scatter plot, coloring by variety_numbers\n",
        "plt.scatter(xs, ys, c=variety_numbers)\n",
        "plt.show()\n"
      ],
      "execution_count": 0,
      "outputs": []
    },
    {
      "cell_type": "code",
      "metadata": {
        "id": "sLW5uDc669TQ",
        "colab_type": "code",
        "colab": {}
      },
      "source": [
        "# Import TSNE\n",
        "from sklearn.manifold import TSNE\n",
        "\n",
        "# Create a TSNE instance: model\n",
        "model = TSNE(learning_rate=50)\n",
        "\n",
        "# Apply fit_transform to normalized_movements: tsne_features\n",
        "tsne_features = model.fit_transform(normalized_movements)\n",
        "\n",
        "# Select the 0th feature: xs\n",
        "xs = tsne_features[:,0]\n",
        "\n",
        "# Select the 1th feature: ys\n",
        "ys = tsne_features[:,1]\n",
        "\n",
        "# Scatter plot\n",
        "plt.scatter(xs, ys, alpha=0.5)\n",
        "\n",
        "# Annotate the points\n",
        "for x, y, company in zip(xs, ys, companies):\n",
        "    plt.annotate(company, (x, y), fontsize=5, alpha=0.75)\n",
        "plt.show()\n"
      ],
      "execution_count": 0,
      "outputs": []
    }
  ]
}